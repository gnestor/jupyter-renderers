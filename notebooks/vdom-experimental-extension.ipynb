{
 "cells": [
  {
   "cell_type": "markdown",
   "metadata": {},
   "source": [
    "# vdom events"
   ]
  },
  {
   "cell_type": "code",
   "execution_count": 9,
   "metadata": {},
   "outputs": [
    {
     "data": {
      "application/json": {
       "altKey": false,
       "button": 0,
       "buttons": 0,
       "clientX": 483,
       "clientY": 660,
       "ctrlKey": false,
       "detail": 1,
       "metaKey": false,
       "pageX": 483,
       "pageY": 660,
       "screenX": 483,
       "screenY": 757,
       "shiftKey": false,
       "target": {
        "attributes": {},
        "autofocus": false,
        "baseURI": "http://localhost:8888/lab",
        "childElementCount": 0,
        "childNodes": [
         {
          "baseURI": "http://localhost:8888/lab",
          "childNodes": [],
          "data": "click me",
          "isConnected": true,
          "length": 8,
          "nodeName": "#text",
          "nodeType": 3,
          "nodeValue": "click me"
         }
        ],
        "clientHeight": 21,
        "clientLeft": 1,
        "clientTop": 1,
        "clientWidth": 72,
        "contentEditable": "inherit",
        "disabled": false,
        "draggable": false,
        "formAction": "http://localhost:8888/lab",
        "formNoValidate": false,
        "hidden": false,
        "isConnected": true,
        "isContentEditable": false,
        "localName": "button",
        "namespaceURI": "http://www.w3.org/1999/xhtml",
        "nodeName": "BUTTON",
        "nodeType": 1,
        "offsetHeight": 23,
        "offsetLeft": 0,
        "offsetTop": 0,
        "offsetWidth": 74,
        "scrollHeight": 21,
        "scrollLeft": 0,
        "scrollTop": 0,
        "scrollWidth": 72,
        "spellcheck": true,
        "tabIndex": 0,
        "tagName": "BUTTON",
        "translate": true,
        "type": "submit",
        "willValidate": true
       },
       "timeStamp": 156645.40000000125,
       "type": "click"
      },
      "text/plain": [
       "<IPython.core.display.JSON object>"
      ]
     },
     "metadata": {
      "application/json": {
       "expanded": false
      }
     },
     "output_type": "display_data"
    }
   ],
   "source": [
    "from vdom.helpers import *\n",
    "from IPython.display import update_display, JSON\n",
    "\n",
    "event_data = {}\n",
    "event_output = display(JSON(event_data), display_id=True)\n",
    "\n",
    "def handle_event(event):\n",
    "    global event_data\n",
    "    event_data = event\n",
    "    event_output.update(JSON(event))\n",
    "\n",
    "event_output;"
   ]
  },
  {
   "cell_type": "markdown",
   "metadata": {},
   "source": [
    "## Input events"
   ]
  },
  {
   "cell_type": "code",
   "execution_count": 10,
   "metadata": {},
   "outputs": [
    {
     "data": {
      "application/vdom.v1+json": {
       "attributes": {
        "placeholder": "type something",
        "type": "text"
       },
       "children": [],
       "tagName": "input"
      },
      "text/plain": [
       "<input />"
      ]
     },
     "execution_count": 10,
     "metadata": {},
     "output_type": "execute_result"
    }
   ],
   "source": [
    "input_(\n",
    "    type='text', \n",
    "    placeholder='type something', \n",
    "    onChange=handle_event\n",
    ")"
   ]
  },
  {
   "cell_type": "markdown",
   "metadata": {},
   "source": [
    "## Button events"
   ]
  },
  {
   "cell_type": "code",
   "execution_count": 11,
   "metadata": {},
   "outputs": [
    {
     "data": {
      "application/vdom.v1+json": {
       "attributes": {},
       "children": [
        "click me"
       ],
       "tagName": "button"
      },
      "text/plain": [
       "<button />"
      ]
     },
     "execution_count": 11,
     "metadata": {},
     "output_type": "execute_result"
    }
   ],
   "source": [
    "button(\n",
    "    'click me', \n",
    "    onClick=handle_event\n",
    ")"
   ]
  },
  {
   "cell_type": "markdown",
   "metadata": {},
   "source": [
    "## Focus events"
   ]
  },
  {
   "cell_type": "code",
   "execution_count": 12,
   "metadata": {},
   "outputs": [
    {
     "data": {
      "application/vdom.v1+json": {
       "attributes": {
        "placeholder": "click me",
        "type": "text"
       },
       "children": [],
       "tagName": "input"
      },
      "text/plain": [
       "<input />"
      ]
     },
     "execution_count": 12,
     "metadata": {},
     "output_type": "execute_result"
    }
   ],
   "source": [
    "input_(\n",
    "    type='text', \n",
    "    placeholder='click me', \n",
    "    onFocus=handle_event, \n",
    "    onBlur=handle_event\n",
    ")"
   ]
  },
  {
   "cell_type": "markdown",
   "metadata": {},
   "source": [
    "## Scroll events"
   ]
  },
  {
   "cell_type": "code",
   "execution_count": 13,
   "metadata": {},
   "outputs": [
    {
     "data": {
      "application/vdom.v1+json": {
       "attributes": {
        "style": {
         "height": 360,
         "overflow": "scroll",
         "width": "100%"
        }
       },
       "children": [
        {
         "attributes": {
          "style": {
           "background": "linear-gradient(white, black)",
           "height": 3600,
           "width": "100%"
          }
         },
         "children": [],
         "tagName": "div"
        }
       ],
       "tagName": "div"
      },
      "text/plain": [
       "<div />"
      ]
     },
     "execution_count": 13,
     "metadata": {},
     "output_type": "execute_result"
    }
   ],
   "source": [
    "styles = {\n",
    "    'innerDiv': {\n",
    "        'width': '100%',\n",
    "        'height': 3600,\n",
    "        'background': 'linear-gradient(white, black)'\n",
    "    },\n",
    "    'outerDiv': {\n",
    "        'width': '100%',\n",
    "        'height': 360,\n",
    "        'overflow': 'scroll'\n",
    "    }\n",
    "}\n",
    "div(\n",
    "    div(style=styles['innerDiv']), \n",
    "    style=styles['outerDiv'], \n",
    "    onScroll=handle_event,\n",
    "    onWheel=handle_event\n",
    ")"
   ]
  },
  {
   "cell_type": "markdown",
   "metadata": {},
   "source": [
    "## Keyboard events"
   ]
  },
  {
   "cell_type": "code",
   "execution_count": 14,
   "metadata": {},
   "outputs": [
    {
     "data": {
      "application/vdom.v1+json": {
       "attributes": {
        "placeholder": "press a key",
        "type": "text"
       },
       "children": [],
       "tagName": "input"
      },
      "text/plain": [
       "<input />"
      ]
     },
     "execution_count": 14,
     "metadata": {},
     "output_type": "execute_result"
    }
   ],
   "source": [
    "input_(\n",
    "    type='text', \n",
    "    placeholder='press a key', \n",
    "    onKeyDown=handle_event, \n",
    "    onKeyUp=handle_event\n",
    ")"
   ]
  },
  {
   "cell_type": "markdown",
   "metadata": {},
   "source": [
    "## Mouse events"
   ]
  },
  {
   "cell_type": "code",
   "execution_count": 15,
   "metadata": {},
   "outputs": [
    {
     "data": {
      "application/vdom.v1+json": {
       "attributes": {
        "style": {
         "background": "whitesmoke",
         "cursor": "crosshair",
         "height": 360,
         "width": "100%"
        }
       },
       "children": [],
       "tagName": "div"
      },
      "text/plain": [
       "<div />"
      ]
     },
     "execution_count": 15,
     "metadata": {},
     "output_type": "execute_result"
    }
   ],
   "source": [
    "styles = {\n",
    "    'width': '100%',\n",
    "    'height': 360,\n",
    "    'background': 'whitesmoke',\n",
    "    'cursor': 'crosshair'\n",
    "}\n",
    "\n",
    "div(\n",
    "    style=styles, \n",
    "    onMouseOver=handle_event,\n",
    "    onMouseOut=handle_event,\n",
    "#     onMouseMove=handle_event,\n",
    "    onMouseDown=handle_event,\n",
    "    onMouseUp=handle_event,\n",
    "    onDoubleClick=handle_event,\n",
    "    onContextMenu=handle_event,\n",
    "    onDrag=handle_event,\n",
    "    onDrop=handle_event,\n",
    ")"
   ]
  },
  {
   "cell_type": "markdown",
   "metadata": {},
   "source": [
    "## Clipboard events"
   ]
  },
  {
   "cell_type": "code",
   "execution_count": 16,
   "metadata": {},
   "outputs": [
    {
     "data": {
      "application/vdom.v1+json": {
       "attributes": {},
       "children": [
        {
         "attributes": {
          "style": {
           "display": "block",
           "marginBottom": 10
          },
          "type": "text",
          "value": "copy me"
         },
         "children": [],
         "tagName": "input"
        },
        {
         "attributes": {
          "placeholder": "paste to me",
          "style": {
           "display": "block",
           "marginBottom": 10
          },
          "type": "text"
         },
         "children": [],
         "tagName": "input"
        }
       ],
       "tagName": "div"
      },
      "text/plain": [
       "<div />"
      ]
     },
     "execution_count": 16,
     "metadata": {},
     "output_type": "execute_result"
    }
   ],
   "source": [
    "styles = {\n",
    "    'display': 'block',\n",
    "    'marginBottom': 10\n",
    "}\n",
    "\n",
    "copy_input = input_(\n",
    "    type='text', \n",
    "    value='copy me', \n",
    "    style=styles, \n",
    "    onCopy=handle_event, \n",
    "    onCut=handle_event\n",
    ")\n",
    "\n",
    "paste_input = input_(\n",
    "    type='text', \n",
    "    placeholder='paste to me', \n",
    "    style=styles, \n",
    "    onPaste=handle_event\n",
    ")\n",
    "\n",
    "div(copy_input, paste_input)"
   ]
  },
  {
   "cell_type": "markdown",
   "metadata": {},
   "source": [
    "## Selection events"
   ]
  },
  {
   "cell_type": "code",
   "execution_count": 17,
   "metadata": {},
   "outputs": [
    {
     "data": {
      "application/vdom.v1+json": {
       "attributes": {
        "type": "text",
        "value": "select me"
       },
       "children": [],
       "tagName": "input"
      },
      "text/plain": [
       "<input />"
      ]
     },
     "execution_count": 17,
     "metadata": {},
     "output_type": "execute_result"
    }
   ],
   "source": [
    "input_(\n",
    "    type='text', \n",
    "    value='select me', \n",
    "    onSelect=handle_event\n",
    ")"
   ]
  },
  {
   "cell_type": "markdown",
   "metadata": {},
   "source": [
    "## Media events"
   ]
  },
  {
   "cell_type": "code",
   "execution_count": 18,
   "metadata": {},
   "outputs": [
    {
     "data": {
      "application/vdom.v1+json": {
       "attributes": {
        "controls": true,
        "width": "100%"
       },
       "children": [
        {
         "attributes": {
          "src": "https://cdn-b-east.streamable.com/video/mp4/cr5gn.mp4?token=H348GjJJSOD3K0xtdHI-TA&expires=1525904556",
          "type": "video/mp4"
         },
         "children": [],
         "tagName": "source"
        }
       ],
       "tagName": "video"
      },
      "text/plain": [
       "<video />"
      ]
     },
     "execution_count": 18,
     "metadata": {},
     "output_type": "execute_result"
    }
   ],
   "source": [
    "video(\n",
    "    source(src='https://cdn-b-east.streamable.com/video/mp4/cr5gn.mp4?token=H348GjJJSOD3K0xtdHI-TA&expires=1525904556', type='video/mp4'),\n",
    "    width='100%',\n",
    "    controls=True,\n",
    "    onPlay=handle_event,\n",
    "    onPause=handle_event,\n",
    "    onSeeked=handle_event,\n",
    "    onEnded=handle_event\n",
    ")"
   ]
  },
  {
   "cell_type": "markdown",
   "metadata": {},
   "source": [
    "## Image events"
   ]
  },
  {
   "cell_type": "code",
   "execution_count": 19,
   "metadata": {},
   "outputs": [
    {
     "data": {
      "application/vdom.v1+json": {
       "attributes": {
        "src": "/files/vdom/vdom-experimental-extension.gif",
        "width": "100%"
       },
       "children": [],
       "tagName": "img"
      },
      "text/plain": [
       "<img />"
      ]
     },
     "execution_count": 19,
     "metadata": {},
     "output_type": "execute_result"
    }
   ],
   "source": [
    "img(\n",
    "    src='/files/vdom/vdom-experimental-extension.gif',\n",
    "    width='100%',\n",
    "    onLoad=handle_event,\n",
    "    onError=handle_event\n",
    ")"
   ]
  },
  {
   "cell_type": "code",
   "execution_count": null,
   "metadata": {},
   "outputs": [],
   "source": []
  }
 ],
 "metadata": {
  "kernelspec": {
   "display_name": "Python 3",
   "language": "python",
   "name": "python3"
  },
  "language_info": {
   "codemirror_mode": {
    "name": "ipython",
    "version": 3
   },
   "file_extension": ".py",
   "mimetype": "text/x-python",
   "name": "python",
   "nbconvert_exporter": "python",
   "pygments_lexer": "ipython3",
   "version": "3.6.4"
  }
 },
 "nbformat": 4,
 "nbformat_minor": 2
}
